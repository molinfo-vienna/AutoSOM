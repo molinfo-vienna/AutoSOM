{
 "cells": [
  {
   "cell_type": "code",
   "execution_count": 16,
   "metadata": {},
   "outputs": [],
   "source": [
    "import pandas as pd\n",
    "\n",
    "from ast import literal_eval\n",
    "from IPython.display import display\n",
    "from ipywidgets import interact, widgets\n",
    "from rdkit.Chem import Draw, Mol, PandasTools"
   ]
  },
  {
   "cell_type": "code",
   "execution_count": 17,
   "metadata": {},
   "outputs": [
    {
     "name": "stderr",
     "output_type": "stream",
     "text": [
      "[15:10:50] The 2 defining bonds for an atropisomer are co-planar - atoms are: 4 5\n"
     ]
    }
   ],
   "source": [
    "substrates = PandasTools.LoadSDF('/home/rjacob/SOMAN/output/metatrans/substrates.sdf')\n",
    "metabolites = PandasTools.LoadSDF('/home/rjacob/SOMAN/output/metatrans/metabolites.sdf')\n",
    "\n",
    "substrates['soms'] = substrates['soms'].apply(literal_eval)"
   ]
  },
  {
   "cell_type": "code",
   "execution_count": 18,
   "metadata": {},
   "outputs": [
    {
     "data": {
      "application/vnd.jupyter.widget-view+json": {
       "model_id": "80d2d42eda474c51b2fba49536074823",
       "version_major": 2,
       "version_minor": 0
      },
      "text/plain": [
       "interactive(children=(IntSlider(value=0, description='i', max=5816), Output()), _dom_classes=('widget-interact…"
      ]
     },
     "metadata": {},
     "output_type": "display_data"
    }
   ],
   "source": [
    "@interact(i=widgets.IntSlider(min=0, max=len(substrates)-1, step=1))\n",
    "def f(i):\n",
    "\n",
    "    row_substrate = substrates.iloc[i]\n",
    "    row_metabolite = metabolites.iloc[i]\n",
    "\n",
    "    substrate = Mol(row_substrate.ROMol)\n",
    "    substrate.Compute2DCoords()\n",
    "    for atom in substrate.GetAtoms():\n",
    "        atom.SetIntProp(\"atomNote\", atom.GetIdx())\n",
    "\n",
    "    metabolite = Mol(row_metabolite.ROMol)\n",
    "    metabolite.Compute2DCoords()\n",
    "    for atom in metabolite.GetAtoms():\n",
    "        atom.SetIntProp(\"atomNote\", atom.GetIdx())\n",
    "\n",
    "    print(f\"Predicted SoMs: {row_substrate.soms}\")\n",
    "\n",
    "    display(Draw.MolsToGridImage([substrate, metabolite], \n",
    "                                  molsPerRow=2, \n",
    "                                  subImgSize=(500, 500), \n",
    "                                  legends=[\"substrate\", \"metabolite\"], \n",
    "                                  highlightAtomLists=[row_substrate.soms, []], \n",
    "                                  highlightBondLists=[]))"
   ]
  },
  {
   "cell_type": "code",
   "execution_count": null,
   "metadata": {},
   "outputs": [],
   "source": []
  },
  {
   "cell_type": "code",
   "execution_count": null,
   "metadata": {},
   "outputs": [],
   "source": []
  },
  {
   "cell_type": "code",
   "execution_count": null,
   "metadata": {},
   "outputs": [],
   "source": []
  }
 ],
 "metadata": {
  "kernelspec": {
   "display_name": "soman",
   "language": "python",
   "name": "python3"
  },
  "language_info": {
   "codemirror_mode": {
    "name": "ipython",
    "version": 3
   },
   "file_extension": ".py",
   "mimetype": "text/x-python",
   "name": "python",
   "nbconvert_exporter": "python",
   "pygments_lexer": "ipython3",
   "version": "3.12.4"
  }
 },
 "nbformat": 4,
 "nbformat_minor": 2
}
