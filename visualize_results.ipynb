{
 "cells": [
  {
   "cell_type": "code",
   "execution_count": 18,
   "metadata": {},
   "outputs": [],
   "source": [
    "import pandas as pd\n",
    "\n",
    "from ast import literal_eval\n",
    "from IPython.display import display\n",
    "from ipywidgets import interact, widgets\n",
    "from rdkit.Chem import Draw, Mol, PandasTools\n",
    "\n",
    "from rdkit.Chem.Draw import IPythonConsole\n",
    "IPythonConsole.molSize = (600, 600)"
   ]
  },
  {
   "cell_type": "code",
   "execution_count": 19,
   "metadata": {},
   "outputs": [
    {
     "name": "stderr",
     "output_type": "stream",
     "text": [
      "[13:28:01] The 2 defining bonds for an atropisomer are co-planar - atoms are: 30 32\n",
      "[13:28:01] The 2 defining bonds for an atropisomer are co-planar - atoms are: 19 21\n",
      "[13:28:01] The 2 defining bonds for an atropisomer are co-planar - atoms are: 13 15\n",
      "[13:28:01] The 2 defining bonds for an atropisomer are co-planar - atoms are: 30 32\n",
      "[13:28:01] The 2 defining bonds for an atropisomer are co-planar - atoms are: 32 23\n",
      "[13:28:01] The 2 defining bonds for an atropisomer are co-planar - atoms are: 23 29\n",
      "[13:28:01] The 2 defining bonds for an atropisomer are co-planar - atoms are: 13 15\n",
      "[13:28:01] The 2 defining bonds for an atropisomer are co-planar - atoms are: 11 13\n",
      "[13:28:02] The 2 defining bonds for an atropisomer are co-planar - atoms are: 4 5\n"
     ]
    }
   ],
   "source": [
    "substrates = PandasTools.LoadSDF('/home/rjacob/SOMAN/output/metatrans/substrates.sdf')\n",
    "metabolites = PandasTools.LoadSDF('/home/rjacob/SOMAN/output/metatrans/metabolites.sdf')\n",
    "data = pd.merge(substrates, metabolites, on=['ID', 'substrate_id', 'metabolite_id', 'substrate_name', 'metabolite_name', 'soms'], how='inner', suffixes=('_substrate', '_metabolite'))\n",
    "data['soms'] = data['soms'].apply(literal_eval)"
   ]
  },
  {
   "cell_type": "code",
   "execution_count": 20,
   "metadata": {},
   "outputs": [
    {
     "data": {
      "application/vnd.jupyter.widget-view+json": {
       "model_id": "27235640dc924d1da26063f7f801ea92",
       "version_major": 2,
       "version_minor": 0
      },
      "text/plain": [
       "interactive(children=(IntSlider(value=0, description='i', max=9081), Output()), _dom_classes=('widget-interact…"
      ]
     },
     "metadata": {},
     "output_type": "display_data"
    }
   ],
   "source": [
    "# data_filtered = data[data['annotation_rule'] != 'maximum number of heavy atoms filter']\n",
    "# data_filtered_shuffled = data_filtered.sample(frac=1).reset_index(drop=True)\n",
    "\n",
    "@interact(i=widgets.IntSlider(min=0, max=len(data)-1, step=1))\n",
    "def f(i):\n",
    "\n",
    "    row= data.iloc[i]\n",
    "\n",
    "    substrate = Mol(row.ROMol_substrate)\n",
    "    substrate.Compute2DCoords()\n",
    "    for atom in substrate.GetAtoms():\n",
    "        atom.SetIntProp(\"atomNote\", atom.GetIdx())\n",
    "\n",
    "    metabolite = Mol(row.ROMol_metabolite)\n",
    "    metabolite.Compute2DCoords()\n",
    "    for atom in metabolite.GetAtoms():\n",
    "        atom.SetIntProp(\"atomNote\", atom.GetIdx())\n",
    "\n",
    "    print(f\"Substrate: {row.substrate_id}\")\n",
    "    print(f\"Metabolite: {row.metabolite_id}\")\n",
    "    print(f\"Predicted SoMs: {row.soms}\")\n",
    "    print(f\"Annotation rule: {row.annotation_rule}\")\n",
    "\n",
    "    display(Draw.MolsToGridImage([substrate, metabolite], \n",
    "                                  molsPerRow=2, \n",
    "                                  subImgSize=(500, 500), \n",
    "                                  legends=[\"substrate\", \"metabolite\"], \n",
    "                                  highlightAtomLists=[row.soms, []], \n",
    "                                  highlightBondLists=[]))"
   ]
  }
 ],
 "metadata": {
  "kernelspec": {
   "display_name": "soman-env",
   "language": "python",
   "name": "python3"
  },
  "language_info": {
   "codemirror_mode": {
    "name": "ipython",
    "version": 3
   },
   "file_extension": ".py",
   "mimetype": "text/x-python",
   "name": "python",
   "nbconvert_exporter": "python",
   "pygments_lexer": "ipython3",
   "version": "3.11.0"
  }
 },
 "nbformat": 4,
 "nbformat_minor": 2
}
